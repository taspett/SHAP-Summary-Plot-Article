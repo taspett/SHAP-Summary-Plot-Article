{
  "nbformat": 4,
  "nbformat_minor": 0,
  "metadata": {
    "colab": {
      "name": "SHAP Summary Plot (1/2).ipynb",
      "provenance": [],
      "collapsed_sections": [],
      "toc_visible": true,
      "include_colab_link": true
    },
    "kernelspec": {
      "name": "python3",
      "display_name": "Python 3"
    }
  },
  "cells": [
    {
      "cell_type": "markdown",
      "metadata": {
        "id": "view-in-github",
        "colab_type": "text"
      },
      "source": [
        "<a href=\"https://colab.research.google.com/github/taspett/SHAP-Summary-Plot-Article/blob/master/SHAP_Summary_Plot_(1_2).ipynb\" target=\"_parent\"><img src=\"https://colab.research.google.com/assets/colab-badge.svg\" alt=\"Open In Colab\"/></a>"
      ]
    },
    {
      "cell_type": "code",
      "metadata": {
        "id": "Ws4FDmD-3jJY",
        "colab_type": "code",
        "colab": {}
      },
      "source": [
        "# Load Libraries\n",
        "import pandas as pd\n",
        "import numpy as np\n",
        "!pip install shap\n",
        "import shap"
      ],
      "execution_count": 0,
      "outputs": []
    },
    {
      "cell_type": "markdown",
      "metadata": {
        "id": "E8sv8rva1MfQ",
        "colab_type": "text"
      },
      "source": [
        "# Summary Plot 1"
      ]
    },
    {
      "cell_type": "code",
      "metadata": {
        "id": "_pmAyPKNk-dD",
        "colab_type": "code",
        "colab": {}
      },
      "source": [
        "shap.summary_plot(np.random.randn(100, 5), np.random.randn(100, 5), plot_type=\"bar\")"
      ],
      "execution_count": 0,
      "outputs": []
    },
    {
      "cell_type": "code",
      "metadata": {
        "id": "tk3KyOjgrOKk",
        "colab_type": "code",
        "colab": {}
      },
      "source": [
        "shap.summary_plot(np.random.randn(100, 5), np.random.randn(100, 5))"
      ],
      "execution_count": 0,
      "outputs": []
    },
    {
      "cell_type": "code",
      "metadata": {
        "id": "7uGl6oLlXJzv",
        "colab_type": "code",
        "colab": {}
      },
      "source": [
        "shap.summary_plot(np.array([[-0.5,  -1.2, 2.1, 1.0, -1.5]]), \n",
        "                  np.array([[1,  1, 1,  1,  1]]), color_bar=False)"
      ],
      "execution_count": 0,
      "outputs": []
    },
    {
      "cell_type": "code",
      "metadata": {
        "id": "tnHrg_B44gvW",
        "colab_type": "code",
        "colab": {}
      },
      "source": [
        "shap.summary_plot(np.array([[-0.5,  -1.2, 2.1, 1.0, -1.5], [-0.5,  -1.2, 2.1, 1.0, -1.5]]), \n",
        "                  np.array([[1,  1, 1,  1, 1], [1,  1, 1,  2,  2]]))"
      ],
      "execution_count": 0,
      "outputs": []
    },
    {
      "cell_type": "markdown",
      "metadata": {
        "id": "yadRhIHk19_F",
        "colab_type": "text"
      },
      "source": [
        "For illustration purposes, I've paired downed a HR database from IBM that is available at Kaggle:  https://www.kaggle.com/pavansubhasht/ibm-hr-analytics-attrition-dataset\n",
        "\n",
        "This is a popular database and a number of projects have been created based on it: https://www.kaggle.com/pavansubhasht/ibm-hr-analytics-attrition-dataset/kernels\n",
        "\n",
        "\n",
        "https://www.kaggle.com/vsdwivedi/a-detailed-study-on-employee-attrition\n",
        "https://www.kaggle.com/patelprashant/employee-attrition/activity\n",
        "\n",
        "I'm using Google Colab as the Python environment and looking data from my PC before prepping the data."
      ]
    },
    {
      "cell_type": "code",
      "metadata": {
        "id": "qf9ZzMr7YTw9",
        "colab_type": "code",
        "colab": {}
      },
      "source": [
        "# Load additional libraries\n",
        "import matplotlib.pyplot as plt\n",
        "from google.colab import files\n",
        "uploaded = files.upload()\n",
        "import io\n",
        "df = pd.read_csv(io.BytesIO(uploaded['ReducedHR.csv']))\n",
        "\n",
        "# Data prep: one hot columns\n",
        "df = pd.get_dummies(df, columns=['Department', 'MaritalStatus', 'Attrition'])\n",
        "\n",
        "# Make y and X\n",
        "y = df['PerformanceRating']\n",
        "X = df.drop(columns='PerformanceRating')\n"
      ],
      "execution_count": 0,
      "outputs": []
    },
    {
      "cell_type": "markdown",
      "metadata": {
        "id": "vtZEIXYHy9ov",
        "colab_type": "text"
      },
      "source": [
        "Train Model\n",
        "Train the opaque model. In this case, Random Forest.\n"
      ]
    },
    {
      "cell_type": "code",
      "metadata": {
        "id": "yAsawfWVzsBR",
        "colab_type": "code",
        "colab": {}
      },
      "source": [
        "from sklearn.model_selection import train_test_split\n",
        "from sklearn import preprocessing\n",
        "from sklearn.ensemble import RandomForestClassifier\n",
        "\n",
        "from sklearn.ensemble import RandomForestRegressor\n",
        "\n",
        "#Split train and test set.\n",
        "RANDOM_STATE = 1\n",
        "X_train, X_test, y_train, y_test = train_test_split(X, y, test_size=0.2,\n",
        "                                                    stratify=y,\n",
        "                                                    random_state=RANDOM_STATE)\n",
        "\n",
        "model = RandomForestRegressor(max_depth=4, random_state=RANDOM_STATE, n_estimators=10)\n",
        "model.fit(X_train, y_train)\n",
        "\n",
        "shap_values = shap.TreeExplainer(model).shap_values(X_train)\n",
        "shap.summary_plot(shap_values, X_train, plot_type=\"bar\")"
      ],
      "execution_count": 0,
      "outputs": []
    },
    {
      "cell_type": "code",
      "metadata": {
        "id": "w8XAnEvw0yIm",
        "colab_type": "code",
        "colab": {}
      },
      "source": [
        "shap.summary_plot(shap_values, X_train)"
      ],
      "execution_count": 0,
      "outputs": []
    },
    {
      "cell_type": "code",
      "metadata": {
        "id": "8JtbBuCLsyN_",
        "colab_type": "code",
        "colab": {}
      },
      "source": [
        "shap_values1 = np.delete(shap_values, 11, 1)\n",
        "X_train1 = X_train.drop(columns = 'PercentSalaryHike')\n",
        "\n",
        "shap_values2 = np.delete(shap_values1, 12, 1)\n",
        "X_train2 = X_train1.drop(columns = 'StockOptionLevel')"
      ],
      "execution_count": 0,
      "outputs": []
    },
    {
      "cell_type": "code",
      "metadata": {
        "id": "qP5x1pugt0he",
        "colab_type": "code",
        "colab": {}
      },
      "source": [
        "shap.summary_plot(shap_values2, X_train2, max_display=3)"
      ],
      "execution_count": 0,
      "outputs": []
    }
  ]
}